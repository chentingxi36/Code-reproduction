{
 "cells": [
  {
   "cell_type": "code",
   "execution_count": 4,
   "id": "a20ddff7",
   "metadata": {},
   "outputs": [
    {
     "ename": "ValueError",
     "evalue": "Unexpected atomic number Z=119",
     "output_type": "error",
     "traceback": [
      "\u001b[1;31m---------------------------------------------------------------------------\u001b[0m",
      "\u001b[1;31mValueError\u001b[0m                                Traceback (most recent call last)",
      "Input \u001b[1;32mIn [4]\u001b[0m, in \u001b[0;36m<cell line: 5>\u001b[1;34m()\u001b[0m\n\u001b[0;32m      2\u001b[0m \u001b[38;5;28;01mimport\u001b[39;00m \u001b[38;5;21;01mos\u001b[39;00m\n\u001b[0;32m      3\u001b[0m \u001b[38;5;28;01mimport\u001b[39;00m \u001b[38;5;21;01mpymatgen\u001b[39;00m \u001b[38;5;28;01mas\u001b[39;00m \u001b[38;5;21;01mmp\u001b[39;00m\n\u001b[1;32m----> 5\u001b[0m \u001b[38;5;28;01mfrom\u001b[39;00m \u001b[38;5;21;01mmatminer\u001b[39;00m\u001b[38;5;21;01m.\u001b[39;00m\u001b[38;5;21;01mfeaturizers\u001b[39;00m\u001b[38;5;21;01m.\u001b[39;00m\u001b[38;5;21;01mstructure\u001b[39;00m \u001b[38;5;28;01mimport\u001b[39;00m JarvisCFID\n\u001b[0;32m      6\u001b[0m \u001b[38;5;28;01mfrom\u001b[39;00m \u001b[38;5;21;01mpymatgen\u001b[39;00m\u001b[38;5;21;01m.\u001b[39;00m\u001b[38;5;21;01mcore\u001b[39;00m\u001b[38;5;21;01m.\u001b[39;00m\u001b[38;5;21;01mstructure\u001b[39;00m \u001b[38;5;28;01mimport\u001b[39;00m Structure\n\u001b[0;32m      8\u001b[0m jarvis \u001b[38;5;241m=\u001b[39m JarvisCFID()\n",
      "File \u001b[1;32mD:\\Users\\Tingxi Chen\\anaconda3\\lib\\site-packages\\matminer\\featurizers\\structure\\__init__.py:30\u001b[0m, in \u001b[0;36m<module>\u001b[1;34m\u001b[0m\n\u001b[0;32m     19\u001b[0m \u001b[38;5;28;01mfrom\u001b[39;00m \u001b[38;5;21;01mmatminer\u001b[39;00m\u001b[38;5;21;01m.\u001b[39;00m\u001b[38;5;21;01mfeaturizers\u001b[39;00m\u001b[38;5;21;01m.\u001b[39;00m\u001b[38;5;21;01mstructure\u001b[39;00m\u001b[38;5;21;01m.\u001b[39;00m\u001b[38;5;21;01morder\u001b[39;00m \u001b[38;5;28;01mimport\u001b[39;00m (\n\u001b[0;32m     20\u001b[0m     ChemicalOrdering,\n\u001b[0;32m     21\u001b[0m     DensityFeatures,\n\u001b[0;32m     22\u001b[0m     MaximumPackingEfficiency,\n\u001b[0;32m     23\u001b[0m     StructuralComplexity,\n\u001b[0;32m     24\u001b[0m )\n\u001b[0;32m     25\u001b[0m \u001b[38;5;28;01mfrom\u001b[39;00m \u001b[38;5;21;01mmatminer\u001b[39;00m\u001b[38;5;21;01m.\u001b[39;00m\u001b[38;5;21;01mfeaturizers\u001b[39;00m\u001b[38;5;21;01m.\u001b[39;00m\u001b[38;5;21;01mstructure\u001b[39;00m\u001b[38;5;21;01m.\u001b[39;00m\u001b[38;5;21;01mrdf\u001b[39;00m \u001b[38;5;28;01mimport\u001b[39;00m (\n\u001b[0;32m     26\u001b[0m     ElectronicRadialDistributionFunction,\n\u001b[0;32m     27\u001b[0m     PartialRadialDistributionFunction,\n\u001b[0;32m     28\u001b[0m     RadialDistributionFunction,\n\u001b[0;32m     29\u001b[0m )\n\u001b[1;32m---> 30\u001b[0m \u001b[38;5;28;01mfrom\u001b[39;00m \u001b[38;5;21;01mmatminer\u001b[39;00m\u001b[38;5;21;01m.\u001b[39;00m\u001b[38;5;21;01mfeaturizers\u001b[39;00m\u001b[38;5;21;01m.\u001b[39;00m\u001b[38;5;21;01mstructure\u001b[39;00m\u001b[38;5;21;01m.\u001b[39;00m\u001b[38;5;21;01msites\u001b[39;00m \u001b[38;5;28;01mimport\u001b[39;00m SiteStatsFingerprint\n\u001b[0;32m     31\u001b[0m \u001b[38;5;28;01mfrom\u001b[39;00m \u001b[38;5;21;01mmatminer\u001b[39;00m\u001b[38;5;21;01m.\u001b[39;00m\u001b[38;5;21;01mfeaturizers\u001b[39;00m\u001b[38;5;21;01m.\u001b[39;00m\u001b[38;5;21;01mstructure\u001b[39;00m\u001b[38;5;21;01m.\u001b[39;00m\u001b[38;5;21;01msymmetry\u001b[39;00m \u001b[38;5;28;01mimport\u001b[39;00m (\n\u001b[0;32m     32\u001b[0m     Dimensionality,\n\u001b[0;32m     33\u001b[0m     GlobalSymmetryFeatures,\n\u001b[0;32m     34\u001b[0m )\n",
      "File \u001b[1;32mD:\\Users\\Tingxi Chen\\anaconda3\\lib\\site-packages\\matminer\\featurizers\\structure\\sites.py:9\u001b[0m, in \u001b[0;36m<module>\u001b[1;34m\u001b[0m\n\u001b[0;32m      6\u001b[0m \u001b[38;5;28;01mfrom\u001b[39;00m \u001b[38;5;21;01mpymatgen\u001b[39;00m\u001b[38;5;21;01m.\u001b[39;00m\u001b[38;5;21;01mcore\u001b[39;00m\u001b[38;5;21;01m.\u001b[39;00m\u001b[38;5;21;01mperiodic_table\u001b[39;00m \u001b[38;5;28;01mimport\u001b[39;00m Element, Specie\n\u001b[0;32m      8\u001b[0m \u001b[38;5;28;01mfrom\u001b[39;00m \u001b[38;5;21;01mmatminer\u001b[39;00m\u001b[38;5;21;01m.\u001b[39;00m\u001b[38;5;21;01mfeaturizers\u001b[39;00m\u001b[38;5;21;01m.\u001b[39;00m\u001b[38;5;21;01mbase\u001b[39;00m \u001b[38;5;28;01mimport\u001b[39;00m BaseFeaturizer\n\u001b[1;32m----> 9\u001b[0m \u001b[38;5;28;01mfrom\u001b[39;00m \u001b[38;5;21;01mmatminer\u001b[39;00m\u001b[38;5;21;01m.\u001b[39;00m\u001b[38;5;21;01mfeaturizers\u001b[39;00m\u001b[38;5;21;01m.\u001b[39;00m\u001b[38;5;21;01msite\u001b[39;00m \u001b[38;5;28;01mimport\u001b[39;00m (\n\u001b[0;32m     10\u001b[0m     SOAP,\n\u001b[0;32m     11\u001b[0m     AverageBondAngle,\n\u001b[0;32m     12\u001b[0m     AverageBondLength,\n\u001b[0;32m     13\u001b[0m     CoordinationNumber,\n\u001b[0;32m     14\u001b[0m     CrystalNNFingerprint,\n\u001b[0;32m     15\u001b[0m     LocalPropertyDifference,\n\u001b[0;32m     16\u001b[0m     OPSiteFingerprint,\n\u001b[0;32m     17\u001b[0m )\n\u001b[0;32m     18\u001b[0m \u001b[38;5;28;01mfrom\u001b[39;00m \u001b[38;5;21;01mmatminer\u001b[39;00m\u001b[38;5;21;01m.\u001b[39;00m\u001b[38;5;21;01mfeaturizers\u001b[39;00m\u001b[38;5;21;01m.\u001b[39;00m\u001b[38;5;21;01mutils\u001b[39;00m\u001b[38;5;21;01m.\u001b[39;00m\u001b[38;5;21;01mstats\u001b[39;00m \u001b[38;5;28;01mimport\u001b[39;00m PropertyStats\n\u001b[0;32m     21\u001b[0m \u001b[38;5;28;01mclass\u001b[39;00m \u001b[38;5;21;01mSiteStatsFingerprint\u001b[39;00m(BaseFeaturizer):\n",
      "File \u001b[1;32mD:\\Users\\Tingxi Chen\\anaconda3\\lib\\site-packages\\matminer\\featurizers\\site\\__init__.py:6\u001b[0m, in \u001b[0;36m<module>\u001b[1;34m\u001b[0m\n\u001b[0;32m      1\u001b[0m \u001b[38;5;28;01mfrom\u001b[39;00m \u001b[38;5;21;01mmatminer\u001b[39;00m\u001b[38;5;21;01m.\u001b[39;00m\u001b[38;5;21;01mfeaturizers\u001b[39;00m\u001b[38;5;21;01m.\u001b[39;00m\u001b[38;5;21;01msite\u001b[39;00m\u001b[38;5;21;01m.\u001b[39;00m\u001b[38;5;21;01mbonding\u001b[39;00m \u001b[38;5;28;01mimport\u001b[39;00m (\n\u001b[0;32m      2\u001b[0m     AverageBondAngle,\n\u001b[0;32m      3\u001b[0m     AverageBondLength,\n\u001b[0;32m      4\u001b[0m     BondOrientationalParameter,\n\u001b[0;32m      5\u001b[0m )\n\u001b[1;32m----> 6\u001b[0m \u001b[38;5;28;01mfrom\u001b[39;00m \u001b[38;5;21;01mmatminer\u001b[39;00m\u001b[38;5;21;01m.\u001b[39;00m\u001b[38;5;21;01mfeaturizers\u001b[39;00m\u001b[38;5;21;01m.\u001b[39;00m\u001b[38;5;21;01msite\u001b[39;00m\u001b[38;5;21;01m.\u001b[39;00m\u001b[38;5;21;01mchemical\u001b[39;00m \u001b[38;5;28;01mimport\u001b[39;00m (\n\u001b[0;32m      7\u001b[0m     ChemicalSRO,\n\u001b[0;32m      8\u001b[0m     EwaldSiteEnergy,\n\u001b[0;32m      9\u001b[0m     LocalPropertyDifference,\n\u001b[0;32m     10\u001b[0m     SiteElementalProperty,\n\u001b[0;32m     11\u001b[0m )\n\u001b[0;32m     12\u001b[0m \u001b[38;5;28;01mfrom\u001b[39;00m \u001b[38;5;21;01mmatminer\u001b[39;00m\u001b[38;5;21;01m.\u001b[39;00m\u001b[38;5;21;01mfeaturizers\u001b[39;00m\u001b[38;5;21;01m.\u001b[39;00m\u001b[38;5;21;01msite\u001b[39;00m\u001b[38;5;21;01m.\u001b[39;00m\u001b[38;5;21;01mexternal\u001b[39;00m \u001b[38;5;28;01mimport\u001b[39;00m SOAP\n\u001b[0;32m     13\u001b[0m \u001b[38;5;28;01mfrom\u001b[39;00m \u001b[38;5;21;01mmatminer\u001b[39;00m\u001b[38;5;21;01m.\u001b[39;00m\u001b[38;5;21;01mfeaturizers\u001b[39;00m\u001b[38;5;21;01m.\u001b[39;00m\u001b[38;5;21;01msite\u001b[39;00m\u001b[38;5;21;01m.\u001b[39;00m\u001b[38;5;21;01mfingerprint\u001b[39;00m \u001b[38;5;28;01mimport\u001b[39;00m (\n\u001b[0;32m     14\u001b[0m     AGNIFingerprints,\n\u001b[0;32m     15\u001b[0m     ChemEnvSiteFingerprint,\n\u001b[1;32m   (...)\u001b[0m\n\u001b[0;32m     18\u001b[0m     VoronoiFingerprint,\n\u001b[0;32m     19\u001b[0m )\n",
      "File \u001b[1;32mD:\\Users\\Tingxi Chen\\anaconda3\\lib\\site-packages\\matminer\\featurizers\\site\\chemical.py:286\u001b[0m, in \u001b[0;36m<module>\u001b[1;34m\u001b[0m\n\u001b[0;32m    269\u001b[0m         \u001b[38;5;28;01mreturn\u001b[39;00m [\n\u001b[0;32m    270\u001b[0m             \u001b[38;5;124m\"\u001b[39m\u001b[38;5;124m@Article\u001b[39m\u001b[38;5;124m{\u001b[39m\u001b[38;5;124mEwald1921,\u001b[39m\u001b[38;5;124m\"\u001b[39m\n\u001b[0;32m    271\u001b[0m             \u001b[38;5;124m\"\u001b[39m\u001b[38;5;124mauthor = \u001b[39m\u001b[38;5;124m{\u001b[39m\u001b[38;5;124mEwald, P. P.},\u001b[39m\u001b[38;5;124m\"\u001b[39m\n\u001b[1;32m   (...)\u001b[0m\n\u001b[0;32m    281\u001b[0m             \u001b[38;5;124m\"\u001b[39m\u001b[38;5;124m}\u001b[39m\u001b[38;5;124m\"\u001b[39m\n\u001b[0;32m    282\u001b[0m         ]\n\u001b[0;32m    285\u001b[0m \u001b[38;5;66;03m# TODO: Figure out whether to take NN-counting method as an option (see VoronoiFingerprint)\u001b[39;00m\n\u001b[1;32m--> 286\u001b[0m \u001b[38;5;28;01mclass\u001b[39;00m \u001b[38;5;21;01mLocalPropertyDifference\u001b[39;00m(BaseFeaturizer):\n\u001b[0;32m    287\u001b[0m \u001b[38;5;250m    \u001b[39m\u001b[38;5;124;03m\"\"\"\u001b[39;00m\n\u001b[0;32m    288\u001b[0m \u001b[38;5;124;03m    Differences in elemental properties between site and its neighboring sites.\u001b[39;00m\n\u001b[0;32m    289\u001b[0m \n\u001b[1;32m   (...)\u001b[0m\n\u001b[0;32m    308\u001b[0m \u001b[38;5;124;03m         `Ward et al. _PRB_ 2017 <http://link.aps.org/doi/10.1103/PhysRevB.96.024104>`_\u001b[39;00m\n\u001b[0;32m    309\u001b[0m \u001b[38;5;124;03m    \"\"\"\u001b[39;00m\n\u001b[0;32m    311\u001b[0m     \u001b[38;5;28;01mdef\u001b[39;00m \u001b[38;5;21m__init__\u001b[39m(\n\u001b[0;32m    312\u001b[0m         \u001b[38;5;28mself\u001b[39m,\n\u001b[0;32m    313\u001b[0m         data_source\u001b[38;5;241m=\u001b[39mMagpieData(),\n\u001b[1;32m   (...)\u001b[0m\n\u001b[0;32m    316\u001b[0m         signed\u001b[38;5;241m=\u001b[39m\u001b[38;5;28;01mFalse\u001b[39;00m,\n\u001b[0;32m    317\u001b[0m     ):\n",
      "File \u001b[1;32mD:\\Users\\Tingxi Chen\\anaconda3\\lib\\site-packages\\matminer\\featurizers\\site\\chemical.py:313\u001b[0m, in \u001b[0;36mLocalPropertyDifference\u001b[1;34m()\u001b[0m\n\u001b[0;32m    286\u001b[0m \u001b[38;5;28;01mclass\u001b[39;00m \u001b[38;5;21;01mLocalPropertyDifference\u001b[39;00m(BaseFeaturizer):\n\u001b[0;32m    287\u001b[0m \u001b[38;5;250m    \u001b[39m\u001b[38;5;124;03m\"\"\"\u001b[39;00m\n\u001b[0;32m    288\u001b[0m \u001b[38;5;124;03m    Differences in elemental properties between site and its neighboring sites.\u001b[39;00m\n\u001b[0;32m    289\u001b[0m \n\u001b[1;32m   (...)\u001b[0m\n\u001b[0;32m    308\u001b[0m \u001b[38;5;124;03m         `Ward et al. _PRB_ 2017 <http://link.aps.org/doi/10.1103/PhysRevB.96.024104>`_\u001b[39;00m\n\u001b[0;32m    309\u001b[0m \u001b[38;5;124;03m    \"\"\"\u001b[39;00m\n\u001b[0;32m    311\u001b[0m     \u001b[38;5;28;01mdef\u001b[39;00m \u001b[38;5;21m__init__\u001b[39m(\n\u001b[0;32m    312\u001b[0m         \u001b[38;5;28mself\u001b[39m,\n\u001b[1;32m--> 313\u001b[0m         data_source\u001b[38;5;241m=\u001b[39m\u001b[43mMagpieData\u001b[49m\u001b[43m(\u001b[49m\u001b[43m)\u001b[49m,\n\u001b[0;32m    314\u001b[0m         weight\u001b[38;5;241m=\u001b[39m\u001b[38;5;124m\"\u001b[39m\u001b[38;5;124marea\u001b[39m\u001b[38;5;124m\"\u001b[39m,\n\u001b[0;32m    315\u001b[0m         properties\u001b[38;5;241m=\u001b[39m(\u001b[38;5;124m\"\u001b[39m\u001b[38;5;124mElectronegativity\u001b[39m\u001b[38;5;124m\"\u001b[39m,),\n\u001b[0;32m    316\u001b[0m         signed\u001b[38;5;241m=\u001b[39m\u001b[38;5;28;01mFalse\u001b[39;00m,\n\u001b[0;32m    317\u001b[0m     ):\n\u001b[0;32m    318\u001b[0m \u001b[38;5;250m        \u001b[39m\u001b[38;5;124;03m\"\"\"Initialize the featurizer\u001b[39;00m\n\u001b[0;32m    319\u001b[0m \n\u001b[0;32m    320\u001b[0m \u001b[38;5;124;03m        Args:\u001b[39;00m\n\u001b[1;32m   (...)\u001b[0m\n\u001b[0;32m    327\u001b[0m \u001b[38;5;124;03m                            properties(default=False (absolute difference))\u001b[39;00m\n\u001b[0;32m    328\u001b[0m \u001b[38;5;124;03m        \"\"\"\u001b[39;00m\n\u001b[0;32m    329\u001b[0m         \u001b[38;5;28mself\u001b[39m\u001b[38;5;241m.\u001b[39mdata_source \u001b[38;5;241m=\u001b[39m data_source\n",
      "File \u001b[1;32mD:\\Users\\Tingxi Chen\\anaconda3\\lib\\site-packages\\matminer\\utils\\data.py:217\u001b[0m, in \u001b[0;36mMagpieData.__init__\u001b[1;34m(self)\u001b[0m\n\u001b[0;32m    215\u001b[0m \u001b[38;5;28;01mexcept\u001b[39;00m (\u001b[38;5;167;01mValueError\u001b[39;00m, \u001b[38;5;167;01mIndexError\u001b[39;00m):\n\u001b[0;32m    216\u001b[0m     prop_value \u001b[38;5;241m=\u001b[39m \u001b[38;5;28mfloat\u001b[39m(\u001b[38;5;124m\"\u001b[39m\u001b[38;5;124mNaN\u001b[39m\u001b[38;5;124m\"\u001b[39m)\n\u001b[1;32m--> 217\u001b[0m \u001b[38;5;28mself\u001b[39m\u001b[38;5;241m.\u001b[39mall_elemental_props[descriptor_name][\u001b[43mElement\u001b[49m\u001b[38;5;241;43m.\u001b[39;49m\u001b[43mfrom_Z\u001b[49m\u001b[43m(\u001b[49m\u001b[43matomic_no\u001b[49m\u001b[43m)\u001b[49m\u001b[38;5;241m.\u001b[39msymbol] \u001b[38;5;241m=\u001b[39m prop_value\n",
      "File \u001b[1;32mD:\\Users\\Tingxi Chen\\anaconda3\\lib\\site-packages\\pymatgen\\core\\periodic_table.py:526\u001b[0m, in \u001b[0;36mElementBase.from_Z\u001b[1;34m(Z, A)\u001b[0m\n\u001b[0;32m    524\u001b[0m     \u001b[38;5;28;01mif\u001b[39;00m data[\u001b[38;5;124m\"\u001b[39m\u001b[38;5;124mAtomic no\u001b[39m\u001b[38;5;124m\"\u001b[39m] \u001b[38;5;241m==\u001b[39m Z \u001b[38;5;129;01mand\u001b[39;00m atomic_mass_num \u001b[38;5;241m==\u001b[39m A:\n\u001b[0;32m    525\u001b[0m         \u001b[38;5;28;01mreturn\u001b[39;00m Element(sym)\n\u001b[1;32m--> 526\u001b[0m \u001b[38;5;28;01mraise\u001b[39;00m \u001b[38;5;167;01mValueError\u001b[39;00m(\u001b[38;5;124mf\u001b[39m\u001b[38;5;124m\"\u001b[39m\u001b[38;5;124mUnexpected atomic number \u001b[39m\u001b[38;5;132;01m{\u001b[39;00mZ\u001b[38;5;132;01m=}\u001b[39;00m\u001b[38;5;124m\"\u001b[39m)\n",
      "\u001b[1;31mValueError\u001b[0m: Unexpected atomic number Z=119"
     ]
    }
   ],
   "source": [
    "import pandas as pd\n",
    "import os\n",
    "import pymatgen as mp\n",
    "\n",
    "from matminer.featurizers.structure import JarvisCFID\n",
    "from pymatgen.core.structure import Structure\n",
    "\n",
    "jarvis = JarvisCFID()\n",
    "cif_path = 'cif_files2/'\n",
    "cif_files = os.listdir(cif_path)\n",
    "\n",
    "jarvis_features = []\n",
    "for cif in cif_files:\n",
    "        cif_struc = Structure.from_file(cif_path + cif)\n",
    "        cif_feature = jarvis.featurize(cif_struc)\n",
    "        jarvis_features.append(cif_feature)\n",
    "\n",
    "df = pd.DataFrame(jarvis_features, index = cif_files)\n",
    "\n",
    "df['target'] = [0]*len(cif_path)\n",
    "\n",
    "df.to_csv('featurized_cif_file.csv', index_label='cif_file')\n"
   ]
  },
  {
   "cell_type": "code",
   "execution_count": null,
   "id": "03ea0cf4",
   "metadata": {},
   "outputs": [],
   "source": []
  },
  {
   "cell_type": "code",
   "execution_count": null,
   "id": "4cfa9f0c",
   "metadata": {},
   "outputs": [],
   "source": []
  }
 ],
 "metadata": {
  "kernelspec": {
   "display_name": "Python 3 (ipykernel)",
   "language": "python",
   "name": "python3"
  },
  "language_info": {
   "codemirror_mode": {
    "name": "ipython",
    "version": 3
   },
   "file_extension": ".py",
   "mimetype": "text/x-python",
   "name": "python",
   "nbconvert_exporter": "python",
   "pygments_lexer": "ipython3",
   "version": "3.9.12"
  }
 },
 "nbformat": 4,
 "nbformat_minor": 5
}
